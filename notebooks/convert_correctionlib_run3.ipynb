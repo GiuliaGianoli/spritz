{
 "cells": [
  {
   "cell_type": "code",
   "execution_count": 3,
   "id": "f7b7e026",
   "metadata": {},
   "outputs": [],
   "source": [
    "import gzip\n",
    "import json\n",
    "\n",
    "import correctionlib\n",
    "import correctionlib.convert\n",
    "import numpy as np\n",
    "import requests\n",
    "import rich\n",
    "import hist\n",
    "\n",
    "ElectronWP = {\n",
    "    \"Full2022EEv12\": {\n",
    "        \"TightObjWP\": {\n",
    "            \"mvaWinter22V2Iso_WP90\": {\n",
    "                \"tkSF\": {\n",
    "                    \"1-1\": [\n",
    "                        \"2022Re-recoE+PromptFG\",\n",
    "                        \"Electron-ID-SF\",\n",
    "                        \"data/jsonpog-integration/POG/EGM/2022_Summer22EE/electron.json.gz\",\n",
    "                    ]\n",
    "                },\n",
    "                \"wpSF\": {\n",
    "                    \"1-1\": [\n",
    "                        \"2022Re-recoE+PromptFG\",\n",
    "                        \"Electron-ID-SF\",\n",
    "                        \"passingMVA90_HWW\",\n",
    "                        \"data/scale_factor/Full2022EEv12/electron.json\",\n",
    "                    ],\n",
    "                },\n",
    "            }\n",
    "        }\n",
    "    }\n",
    "}\n",
    "MuonWP = {\n",
    "    \"Full2022EEv12\": {\n",
    "        \"TightObjWP\": {\n",
    "            \"cut_Tight_HWW\": {\n",
    "                \"idSF\": {\n",
    "                    \"1-1\": [\n",
    "                        \"NUM_TightID_HWW_DEN_TrackerMuons\",\n",
    "                        \"data/scale_factor/Full2022EEv12/muonSF_latinos_HWW.json\",\n",
    "                    ],\n",
    "                },\n",
    "                \"isoSF\": {\n",
    "                    \"1-1\": [\n",
    "                        \"NUM_TightPFIso_DEN_TightID_HWW\",\n",
    "                        \"data/scale_factor/Full2022EEv12/muonSF_latinos_HWW.json\",\n",
    "                    ],\n",
    "                },\n",
    "            }\n",
    "        }\n",
    "    }\n",
    "}\n",
    "\n",
    "path_jsonpog = \"/Users/giorgiopizzati/Downloads/jsonpog-integration-master/POG\"\n",
    "path_jsonpog = \"/cvmfs/cms.cern.ch/rsync/cms-nanoAOD/jsonpog-integration/POG\"\n",
    "url_latinos = \"https://raw.githubusercontent.com/latinos/LatinoAnalysis/UL_production/NanoGardener/python/data/scale_factor/\""
   ]
  },
  {
   "cell_type": "code",
   "execution_count": 4,
   "id": "804feb89",
   "metadata": {},
   "outputs": [],
   "source": [
    "ERA = \"Full2022EEv12\"\n",
    "eleWP = 'mvaWinter22V2Iso_WP90'"
   ]
  },
  {
   "cell_type": "code",
   "execution_count": 5,
   "id": "086b74db",
   "metadata": {},
   "outputs": [],
   "source": [
    "def get_cset_electron(corr, wp, tag, return_histo=False):\n",
    "    real_content = corr[\"corrections\"][0][\"data\"][\"content\"][0][\"value\"][\"content\"]\n",
    "    content_syst = []\n",
    "    for valType in [\"sf\", \"sfdown\", \"sfup\"]:\n",
    "        sf_ind = find_key(valType, real_content)\n",
    "        sf = real_content[sf_ind][\"value\"][\"content\"]\n",
    "\n",
    "        wp_ind = find_key(wp, sf)\n",
    "        obj = sf[wp_ind][\"value\"]\n",
    "        content = np.array(obj[\"content\"])\n",
    "        content_syst.append(content)\n",
    "        axis = [\n",
    "            hist.axis.Variable(edges, name=name)\n",
    "            for edges, name in zip(obj[\"edges\"], obj[\"inputs\"])\n",
    "        ]\n",
    "    content_syst = np.array(content_syst)\n",
    "    shape = [ax.edges.shape[0] - 1 for ax in axis]\n",
    "    content_syst = content_syst.reshape(3, *shape)\n",
    "    syst = [\"nominal\", \"syst_down\", \"syst_up\"]\n",
    "    # syst = ['sf', 'sfdown', 'sfup']\n",
    "    h = hist.Hist(\n",
    "        hist.axis.StrCategory(syst, name=\"syst\"),\n",
    "        *axis,\n",
    "        hist.storage.Double(),\n",
    "        data=content_syst,\n",
    "    )\n",
    "    h.name = f\"{tag}\"\n",
    "    h.label = \"out\"\n",
    "    cset = correctionlib.convert.from_histogram(h)\n",
    "\n",
    "    if return_histo:\n",
    "        return h, cset\n",
    "    return cset"
   ]
  },
  {
   "cell_type": "code",
   "execution_count": 6,
   "id": "e806319f",
   "metadata": {},
   "outputs": [],
   "source": [
    "def find_key(key: str, l: list, key_name=\"key\"):\n",
    "    for i in range(len(l)):\n",
    "        if l[i][key_name] == key:\n",
    "            return i\n",
    "\n",
    "def print_keys(l: list):\n",
    "    for i in range(len(l)):\n",
    "        print(l[i][\"key\"])"
   ]
  },
  {
   "cell_type": "code",
   "execution_count": 7,
   "id": "8bbac266",
   "metadata": {},
   "outputs": [
    {
     "name": "stdout",
     "output_type": "stream",
     "text": [
      "/cvmfs/cms.cern.ch/rsync/cms-nanoAOD/jsonpog-integration/POG/EGM/2022_Summer22EE/electron.json.gz\n"
     ]
    }
   ],
   "source": [
    "fname = (\n",
    "    path_jsonpog\n",
    "    + list(ElectronWP[ERA][\"TightObjWP\"][eleWP][\"tkSF\"].values())[\n",
    "        0\n",
    "    ][-1].split(\"POG\")[-1]\n",
    ")\n",
    "print(fname)\n",
    "with gzip.open(fname) as file:\n",
    "    corr = json.load(file)"
   ]
  },
  {
   "cell_type": "code",
   "execution_count": 8,
   "id": "6a5a36b9",
   "metadata": {},
   "outputs": [
    {
     "data": {
      "text/html": [
       "<pre style=\"white-space:pre;overflow-x:auto;line-height:normal;font-family:Menlo,'DejaVu Sans Mono',consolas,'Courier New',monospace\">📈 <span style=\"font-weight: bold\">Electron_RecoSF_RecoBelow20</span> <span style=\"font-weight: bold\">(</span>v0<span style=\"font-weight: bold\">)</span>\n",
       "<span style=\"font-style: italic\">No description</span>\n",
       "Node counts: <span style=\"font-weight: bold\">Category</span>: <span style=\"color: #008080; text-decoration-color: #008080; font-weight: bold\">1</span>, <span style=\"font-weight: bold\">MultiBinning</span>: <span style=\"color: #008080; text-decoration-color: #008080; font-weight: bold\">3</span>\n",
       "╭────────────── ▶ input ──────────────╮ ╭───── ▶ input ──────╮ ╭────── ▶ input ──────╮\n",
       "│ <span style=\"font-weight: bold\">syst</span> (string)                       │ │ <span style=\"font-weight: bold\">eta</span> (real)         │ │ <span style=\"font-weight: bold\">pt</span> (real)           │\n",
       "│ syst                                │ │ eta                │ │ pt                  │\n",
       "│ Values: nominal, syst_down, syst_up │ │ Range: [-inf, inf) │ │ Range: [10.0, 20.0) │\n",
       "╰─────────────────────────────────────╯ ╰────────────────────╯ ╰─────────────────────╯\n",
       "╭─── ◀ output ───╮\n",
       "│ <span style=\"font-weight: bold\">out</span> (real)     │\n",
       "│ <span style=\"font-style: italic\">No description</span> │\n",
       "╰────────────────╯\n",
       "</pre>\n"
      ],
      "text/plain": [
       "📈 \u001b[1mElectron_RecoSF_RecoBelow20\u001b[0m \u001b[1m(\u001b[0mv0\u001b[1m)\u001b[0m\n",
       "\u001b[3mNo description\u001b[0m\n",
       "Node counts: \u001b[1mCategory\u001b[0m: \u001b[1;36m1\u001b[0m, \u001b[1mMultiBinning\u001b[0m: \u001b[1;36m3\u001b[0m\n",
       "╭────────────── ▶ input ──────────────╮ ╭───── ▶ input ──────╮ ╭────── ▶ input ──────╮\n",
       "│ \u001b[1msyst\u001b[0m (string)                       │ │ \u001b[1meta\u001b[0m (real)         │ │ \u001b[1mpt\u001b[0m (real)           │\n",
       "│ syst                                │ │ eta                │ │ pt                  │\n",
       "│ Values: nominal, syst_down, syst_up │ │ Range: [-inf, inf) │ │ Range: [10.0, 20.0) │\n",
       "╰─────────────────────────────────────╯ ╰────────────────────╯ ╰─────────────────────╯\n",
       "╭─── ◀ output ───╮\n",
       "│ \u001b[1mout\u001b[0m (real)     │\n",
       "│ \u001b[3mNo description\u001b[0m │\n",
       "╰────────────────╯\n"
      ]
     },
     "metadata": {},
     "output_type": "display_data"
    },
    {
     "data": {
      "text/html": [
       "<pre style=\"white-space:pre;overflow-x:auto;line-height:normal;font-family:Menlo,'DejaVu Sans Mono',consolas,'Courier New',monospace\">📈 <span style=\"font-weight: bold\">Electron_RecoSF_Reco20to75</span> <span style=\"font-weight: bold\">(</span>v0<span style=\"font-weight: bold\">)</span>\n",
       "<span style=\"font-style: italic\">No description</span>\n",
       "Node counts: <span style=\"font-weight: bold\">Category</span>: <span style=\"color: #008080; text-decoration-color: #008080; font-weight: bold\">1</span>, <span style=\"font-weight: bold\">MultiBinning</span>: <span style=\"color: #008080; text-decoration-color: #008080; font-weight: bold\">3</span>\n",
       "╭────────────── ▶ input ──────────────╮ ╭───── ▶ input ──────╮ ╭────── ▶ input ──────╮\n",
       "│ <span style=\"font-weight: bold\">syst</span> (string)                       │ │ <span style=\"font-weight: bold\">eta</span> (real)         │ │ <span style=\"font-weight: bold\">pt</span> (real)           │\n",
       "│ syst                                │ │ eta                │ │ pt                  │\n",
       "│ Values: nominal, syst_down, syst_up │ │ Range: [-inf, inf) │ │ Range: [20.0, 75.0) │\n",
       "╰─────────────────────────────────────╯ ╰────────────────────╯ ╰─────────────────────╯\n",
       "╭─── ◀ output ───╮\n",
       "│ <span style=\"font-weight: bold\">out</span> (real)     │\n",
       "│ <span style=\"font-style: italic\">No description</span> │\n",
       "╰────────────────╯\n",
       "</pre>\n"
      ],
      "text/plain": [
       "📈 \u001b[1mElectron_RecoSF_Reco20to75\u001b[0m \u001b[1m(\u001b[0mv0\u001b[1m)\u001b[0m\n",
       "\u001b[3mNo description\u001b[0m\n",
       "Node counts: \u001b[1mCategory\u001b[0m: \u001b[1;36m1\u001b[0m, \u001b[1mMultiBinning\u001b[0m: \u001b[1;36m3\u001b[0m\n",
       "╭────────────── ▶ input ──────────────╮ ╭───── ▶ input ──────╮ ╭────── ▶ input ──────╮\n",
       "│ \u001b[1msyst\u001b[0m (string)                       │ │ \u001b[1meta\u001b[0m (real)         │ │ \u001b[1mpt\u001b[0m (real)           │\n",
       "│ syst                                │ │ eta                │ │ pt                  │\n",
       "│ Values: nominal, syst_down, syst_up │ │ Range: [-inf, inf) │ │ Range: [20.0, 75.0) │\n",
       "╰─────────────────────────────────────╯ ╰────────────────────╯ ╰─────────────────────╯\n",
       "╭─── ◀ output ───╮\n",
       "│ \u001b[1mout\u001b[0m (real)     │\n",
       "│ \u001b[3mNo description\u001b[0m │\n",
       "╰────────────────╯\n"
      ]
     },
     "metadata": {},
     "output_type": "display_data"
    },
    {
     "data": {
      "text/html": [
       "<pre style=\"white-space:pre;overflow-x:auto;line-height:normal;font-family:Menlo,'DejaVu Sans Mono',consolas,'Courier New',monospace\">📈 <span style=\"font-weight: bold\">Electron_RecoSF_RecoAbove75</span> <span style=\"font-weight: bold\">(</span>v0<span style=\"font-weight: bold\">)</span>\n",
       "<span style=\"font-style: italic\">No description</span>\n",
       "Node counts: <span style=\"font-weight: bold\">Category</span>: <span style=\"color: #008080; text-decoration-color: #008080; font-weight: bold\">1</span>, <span style=\"font-weight: bold\">MultiBinning</span>: <span style=\"color: #008080; text-decoration-color: #008080; font-weight: bold\">3</span>\n",
       "╭────────────── ▶ input ──────────────╮ ╭───── ▶ input ──────╮ ╭───── ▶ input ──────╮\n",
       "│ <span style=\"font-weight: bold\">syst</span> (string)                       │ │ <span style=\"font-weight: bold\">eta</span> (real)         │ │ <span style=\"font-weight: bold\">pt</span> (real)          │\n",
       "│ syst                                │ │ eta                │ │ pt                 │\n",
       "│ Values: nominal, syst_down, syst_up │ │ Range: [-inf, inf) │ │ Range: [75.0, inf) │\n",
       "╰─────────────────────────────────────╯ ╰────────────────────╯ ╰────────────────────╯\n",
       "╭─── ◀ output ───╮\n",
       "│ <span style=\"font-weight: bold\">out</span> (real)     │\n",
       "│ <span style=\"font-style: italic\">No description</span> │\n",
       "╰────────────────╯\n",
       "</pre>\n"
      ],
      "text/plain": [
       "📈 \u001b[1mElectron_RecoSF_RecoAbove75\u001b[0m \u001b[1m(\u001b[0mv0\u001b[1m)\u001b[0m\n",
       "\u001b[3mNo description\u001b[0m\n",
       "Node counts: \u001b[1mCategory\u001b[0m: \u001b[1;36m1\u001b[0m, \u001b[1mMultiBinning\u001b[0m: \u001b[1;36m3\u001b[0m\n",
       "╭────────────── ▶ input ──────────────╮ ╭───── ▶ input ──────╮ ╭───── ▶ input ──────╮\n",
       "│ \u001b[1msyst\u001b[0m (string)                       │ │ \u001b[1meta\u001b[0m (real)         │ │ \u001b[1mpt\u001b[0m (real)          │\n",
       "│ syst                                │ │ eta                │ │ pt                 │\n",
       "│ Values: nominal, syst_down, syst_up │ │ Range: [-inf, inf) │ │ Range: [75.0, inf) │\n",
       "╰─────────────────────────────────────╯ ╰────────────────────╯ ╰────────────────────╯\n",
       "╭─── ◀ output ───╮\n",
       "│ \u001b[1mout\u001b[0m (real)     │\n",
       "│ \u001b[3mNo description\u001b[0m │\n",
       "╰────────────────╯\n"
      ]
     },
     "metadata": {},
     "output_type": "display_data"
    }
   ],
   "source": [
    "csets = []\n",
    "for wp in [\"RecoBelow20\", \"Reco20to75\", \"RecoAbove75\"]:\n",
    "    csets.append(get_cset_electron(corr, wp, f\"Electron_RecoSF_{wp}\"))\n",
    "    rich.print(csets[-1])"
   ]
  },
  {
   "cell_type": "code",
   "execution_count": 9,
   "id": "5928dd4f",
   "metadata": {},
   "outputs": [
    {
     "name": "stdout",
     "output_type": "stream",
     "text": [
      "downloading https://raw.githubusercontent.com/latinos/mkShapesRDF/refs/heads/master/mkShapesRDF/processor/data/scale_factor/Full2022EEv12//electron.json\n"
     ]
    }
   ],
   "source": [
    "url_latinos = \"https://raw.githubusercontent.com/latinos/mkShapesRDF/refs/heads/master/mkShapesRDF/processor/data/scale_factor/Full2022EEv12/\"\n",
    "\n",
    "fname = \"electron.json\"\n",
    "with open(\"test_sf.txt\", \"w\") as file:\n",
    "    url = f\"{url_latinos}/{fname}\"\n",
    "    print(\n",
    "        \"downloading\",\n",
    "        url,\n",
    "    )\n",
    "    r = requests.get(url)\n",
    "    file.write(r.text)"
   ]
  },
  {
   "cell_type": "code",
   "execution_count": 10,
   "id": "22a3c774",
   "metadata": {},
   "outputs": [],
   "source": [
    "fname = \"test_sf.txt\"\n",
    "\n",
    "with open(fname) as file:\n",
    "    corr = json.load(file)"
   ]
  },
  {
   "cell_type": "code",
   "execution_count": 11,
   "id": "9a1d0ad6",
   "metadata": {},
   "outputs": [
    {
     "data": {
      "text/html": [
       "<pre style=\"white-space:pre;overflow-x:auto;line-height:normal;font-family:Menlo,'DejaVu Sans Mono',consolas,'Courier New',monospace\">📈 <span style=\"font-weight: bold\">Electron_WP_SF</span> <span style=\"font-weight: bold\">(</span>v0<span style=\"font-weight: bold\">)</span>\n",
       "<span style=\"font-style: italic\">No description</span>\n",
       "Node counts: <span style=\"font-weight: bold\">Category</span>: <span style=\"color: #008080; text-decoration-color: #008080; font-weight: bold\">1</span>, <span style=\"font-weight: bold\">MultiBinning</span>: <span style=\"color: #008080; text-decoration-color: #008080; font-weight: bold\">3</span>\n",
       "╭────────────── ▶ input ──────────────╮ ╭───── ▶ input ──────╮ ╭────── ▶ input ───────╮\n",
       "│ <span style=\"font-weight: bold\">syst</span> (string)                       │ │ <span style=\"font-weight: bold\">eta</span> (real)         │ │ <span style=\"font-weight: bold\">pt</span> (real)            │\n",
       "│ syst                                │ │ eta                │ │ pt                   │\n",
       "│ Values: nominal, syst_down, syst_up │ │ Range: [-2.5, 2.5) │ │ Range: [10.0, 200.0) │\n",
       "╰─────────────────────────────────────╯ ╰────────────────────╯ ╰──────────────────────╯\n",
       "╭─── ◀ output ───╮\n",
       "│ <span style=\"font-weight: bold\">out</span> (real)     │\n",
       "│ <span style=\"font-style: italic\">No description</span> │\n",
       "╰────────────────╯\n",
       "</pre>\n"
      ],
      "text/plain": [
       "📈 \u001b[1mElectron_WP_SF\u001b[0m \u001b[1m(\u001b[0mv0\u001b[1m)\u001b[0m\n",
       "\u001b[3mNo description\u001b[0m\n",
       "Node counts: \u001b[1mCategory\u001b[0m: \u001b[1;36m1\u001b[0m, \u001b[1mMultiBinning\u001b[0m: \u001b[1;36m3\u001b[0m\n",
       "╭────────────── ▶ input ──────────────╮ ╭───── ▶ input ──────╮ ╭────── ▶ input ───────╮\n",
       "│ \u001b[1msyst\u001b[0m (string)                       │ │ \u001b[1meta\u001b[0m (real)         │ │ \u001b[1mpt\u001b[0m (real)            │\n",
       "│ syst                                │ │ eta                │ │ pt                   │\n",
       "│ Values: nominal, syst_down, syst_up │ │ Range: [-2.5, 2.5) │ │ Range: [10.0, 200.0) │\n",
       "╰─────────────────────────────────────╯ ╰────────────────────╯ ╰──────────────────────╯\n",
       "╭─── ◀ output ───╮\n",
       "│ \u001b[1mout\u001b[0m (real)     │\n",
       "│ \u001b[3mNo description\u001b[0m │\n",
       "╰────────────────╯\n"
      ]
     },
     "metadata": {},
     "output_type": "display_data"
    }
   ],
   "source": [
    "# csets = []\n",
    "for wp in [\"passingMVA90_HWW\"]:\n",
    "    csets.append(get_cset_electron(corr, wp, \"Electron_WP_SF\"))\n",
    "    rich.print(csets[-1])"
   ]
  },
  {
   "cell_type": "code",
   "execution_count": 12,
   "id": "09aa7c8e",
   "metadata": {},
   "outputs": [
    {
     "name": "stdout",
     "output_type": "stream",
     "text": [
      "downloading https://raw.githubusercontent.com/latinos/mkShapesRDF/refs/heads/master/mkShapesRDF/processor/data/scale_factor/Full2022EEv12//muonSF_latinos_HWW.json\n"
     ]
    }
   ],
   "source": [
    "fname = \"muonSF_latinos_HWW.json\"\n",
    "with open(\"test_sf.json\", \"w\") as file:\n",
    "    url = f\"{url_latinos}/{fname}\"\n",
    "    print(\n",
    "        \"downloading\",\n",
    "        url,\n",
    "    )\n",
    "    r = requests.get(url)\n",
    "    file.write(r.text)"
   ]
  },
  {
   "cell_type": "code",
   "execution_count": 13,
   "id": "0987096e",
   "metadata": {},
   "outputs": [],
   "source": [
    "fname = \"test_sf.json\"\n",
    "with open(fname) as file:\n",
    "    corr = json.load(file)"
   ]
  },
  {
   "cell_type": "code",
   "execution_count": 14,
   "id": "4aed24c7",
   "metadata": {},
   "outputs": [],
   "source": [
    "import numpy as np"
   ]
  },
  {
   "cell_type": "code",
   "execution_count": 15,
   "id": "e8c6f351",
   "metadata": {},
   "outputs": [],
   "source": [
    "from correctionlib.schemav2 import Category, Binning, Correction\n",
    "\n",
    "\n",
    "def build_data(dict):\n",
    "    if dict[\"nodetype\"] == \"category\":\n",
    "        return Category.model_validate(\n",
    "            {\n",
    "                \"nodetype\": \"category\",\n",
    "                \"input\": dict[\"input\"],\n",
    "                \"content\": [\n",
    "                    {\"key\": i[\"key\"], \"value\": i[\"value\"]} for i in dict[\"content\"]\n",
    "                ],\n",
    "            }\n",
    "        )\n",
    "    elif dict[\"nodetype\"] == \"binning\":\n",
    "        binning = [b for b in dict[\"edges\"]]\n",
    "        for i, val in enumerate(binning):\n",
    "            if not isinstance(val, (int, float)):\n",
    "                continue\n",
    "            if np.isinf(val) and val < 0:\n",
    "                binning[i] = \"-inf\"\n",
    "            elif np.isinf(val) and val > 0:\n",
    "                binning[i] = \"inf\"\n",
    "\n",
    "        content = [\n",
    "            value if isinstance(value, (int, float)) else build_data(value)\n",
    "            for value in dict[\"content\"]\n",
    "        ]\n",
    "\n",
    "        return Binning.model_validate(\n",
    "            {\n",
    "                \"nodetype\": \"binning\",\n",
    "                \"input\": dict[\"input\"],\n",
    "                \"edges\": binning,\n",
    "                \"content\": content,\n",
    "                \"flow\": dict[\"flow\"],\n",
    "            }\n",
    "        )\n",
    "    else:\n",
    "        print(\"Could not parse dict\")\n",
    "        print(dict)\n",
    "\n",
    "\n",
    "def build_correction(dict):\n",
    "    return Correction.model_validate(\n",
    "        {\n",
    "            \"version\": 0,\n",
    "            \"name\": dict[\"name\"],\n",
    "            \"inputs\": dict[\"inputs\"],\n",
    "            \"output\": dict[\"output\"],\n",
    "            \"data\": build_data(dict[\"data\"]),\n",
    "        }\n",
    "    )"
   ]
  },
  {
   "cell_type": "code",
   "execution_count": 16,
   "id": "63d0409c",
   "metadata": {},
   "outputs": [],
   "source": [
    "cname = \"NUM_TightID_HWW_DEN_TrackerMuons\"\n",
    "corr_idx = find_key(cname, corr['corrections'], \"name\")\n",
    "csets.append(build_correction(corr['corrections'][corr_idx]))\n",
    "cname = \"NUM_TightPFIso_DEN_TightID_HWW\"\n",
    "corr_idx = find_key(cname, corr['corrections'], \"name\")\n",
    "csets.append(build_correction(corr['corrections'][corr_idx]))"
   ]
  },
  {
   "cell_type": "code",
   "execution_count": 17,
   "id": "bbf84e9e",
   "metadata": {},
   "outputs": [
    {
     "data": {
      "text/html": [
       "<pre style=\"white-space:pre;overflow-x:auto;line-height:normal;font-family:Menlo,'DejaVu Sans Mono',consolas,'Courier New',monospace\"><span style=\"font-weight: bold\">CorrectionSet</span> (<span style=\"font-style: italic\">schema v2</span>)\n",
       "<span style=\"font-style: italic\">No description</span>\n",
       "📂\n",
       "├── 📈 <span style=\"font-weight: bold\">Electron_RecoSF_RecoBelow20</span> (v0)\n",
       "│   <span style=\"font-style: italic\">No description</span>\n",
       "│   Node counts: <span style=\"font-weight: bold\">Category</span>: 1, <span style=\"font-weight: bold\">MultiBinning</span>: 3\n",
       "│   ╭────────────── ▶ input ──────────────╮ ╭───── ▶ input ──────╮ ╭────── ▶ input ──────╮\n",
       "│   │ <span style=\"font-weight: bold\">syst</span> (string)                       │ │ <span style=\"font-weight: bold\">eta</span> (real)         │ │ <span style=\"font-weight: bold\">pt</span> (real)           │\n",
       "│   │ syst                                │ │ eta                │ │ pt                  │\n",
       "│   │ Values: nominal, syst_down, syst_up │ │ Range: [-inf, inf) │ │ Range: [10.0, 20.0) │\n",
       "│   ╰─────────────────────────────────────╯ ╰────────────────────╯ ╰─────────────────────╯\n",
       "│   ╭─── ◀ output ───╮\n",
       "│   │ <span style=\"font-weight: bold\">out</span> (real)     │\n",
       "│   │ <span style=\"font-style: italic\">No description</span> │\n",
       "│   ╰────────────────╯\n",
       "├── 📈 <span style=\"font-weight: bold\">Electron_RecoSF_Reco20to75</span> (v0)\n",
       "│   <span style=\"font-style: italic\">No description</span>\n",
       "│   Node counts: <span style=\"font-weight: bold\">Category</span>: 1, <span style=\"font-weight: bold\">MultiBinning</span>: 3\n",
       "│   ╭────────────── ▶ input ──────────────╮ ╭───── ▶ input ──────╮ ╭────── ▶ input ──────╮\n",
       "│   │ <span style=\"font-weight: bold\">syst</span> (string)                       │ │ <span style=\"font-weight: bold\">eta</span> (real)         │ │ <span style=\"font-weight: bold\">pt</span> (real)           │\n",
       "│   │ syst                                │ │ eta                │ │ pt                  │\n",
       "│   │ Values: nominal, syst_down, syst_up │ │ Range: [-inf, inf) │ │ Range: [20.0, 75.0) │\n",
       "│   ╰─────────────────────────────────────╯ ╰────────────────────╯ ╰─────────────────────╯\n",
       "│   ╭─── ◀ output ───╮\n",
       "│   │ <span style=\"font-weight: bold\">out</span> (real)     │\n",
       "│   │ <span style=\"font-style: italic\">No description</span> │\n",
       "│   ╰────────────────╯\n",
       "├── 📈 <span style=\"font-weight: bold\">Electron_RecoSF_RecoAbove75</span> (v0)\n",
       "│   <span style=\"font-style: italic\">No description</span>\n",
       "│   Node counts: <span style=\"font-weight: bold\">Category</span>: 1, <span style=\"font-weight: bold\">MultiBinning</span>: 3\n",
       "│   ╭────────────── ▶ input ──────────────╮ ╭───── ▶ input ──────╮ ╭───── ▶ input ──────╮\n",
       "│   │ <span style=\"font-weight: bold\">syst</span> (string)                       │ │ <span style=\"font-weight: bold\">eta</span> (real)         │ │ <span style=\"font-weight: bold\">pt</span> (real)          │\n",
       "│   │ syst                                │ │ eta                │ │ pt                 │\n",
       "│   │ Values: nominal, syst_down, syst_up │ │ Range: [-inf, inf) │ │ Range: [75.0, inf) │\n",
       "│   ╰─────────────────────────────────────╯ ╰────────────────────╯ ╰────────────────────╯\n",
       "│   ╭─── ◀ output ───╮\n",
       "│   │ <span style=\"font-weight: bold\">out</span> (real)     │\n",
       "│   │ <span style=\"font-style: italic\">No description</span> │\n",
       "│   ╰────────────────╯\n",
       "├── 📈 <span style=\"font-weight: bold\">Electron_WP_SF</span> (v0)\n",
       "│   <span style=\"font-style: italic\">No description</span>\n",
       "│   Node counts: <span style=\"font-weight: bold\">Category</span>: 1, <span style=\"font-weight: bold\">MultiBinning</span>: 3\n",
       "│   ╭────────────── ▶ input ──────────────╮ ╭───── ▶ input ──────╮ ╭────── ▶ input ───────╮\n",
       "│   │ <span style=\"font-weight: bold\">syst</span> (string)                       │ │ <span style=\"font-weight: bold\">eta</span> (real)         │ │ <span style=\"font-weight: bold\">pt</span> (real)            │\n",
       "│   │ syst                                │ │ eta                │ │ pt                   │\n",
       "│   │ Values: nominal, syst_down, syst_up │ │ Range: [-2.5, 2.5) │ │ Range: [10.0, 200.0) │\n",
       "│   ╰─────────────────────────────────────╯ ╰────────────────────╯ ╰──────────────────────╯\n",
       "│   ╭─── ◀ output ───╮\n",
       "│   │ <span style=\"font-weight: bold\">out</span> (real)     │\n",
       "│   │ <span style=\"font-style: italic\">No description</span> │\n",
       "│   ╰────────────────╯\n",
       "├── 📈 <span style=\"font-weight: bold\">NUM_TightID_HWW_DEN_TrackerMuons</span> (v0)\n",
       "│   <span style=\"font-style: italic\">No description</span>\n",
       "│   Node counts: <span style=\"font-weight: bold\">Binning</span>: 14, <span style=\"font-weight: bold\">Category</span>: 117\n",
       "│   ╭───────────────────────────────────── ▶ input ─────────────────────────────────────╮ ╭───── ▶ input ──────╮\n",
       "│   │ <span style=\"font-weight: bold\">eta</span> (real)                                                                        │ │ <span style=\"font-weight: bold\">pt</span> (real)          │\n",
       "│   │ Probe eta                                                                         │ │ Probe pt           │\n",
       "│   │ Range: [-2.4, 2.4)                                                                │ │ Range: [10.0, inf) │\n",
       "│   ╰───────────────────────────────────────────────────────────────────────────────────╯ ╰────────────────────╯\n",
       "│   ╭───────────────────────────────────── ▶ input ─────────────────────────────────────╮                       \n",
       "│   │ <span style=\"font-weight: bold\">scale_factors</span> (string)                                                            │                       \n",
       "│   │ Choose nominal scale factor or one of the uncertainties                           │                       \n",
       "│   │ Values: AltSig, massBin, massRange, nominal, stat, syst, systdown, systup, tagIso │                       \n",
       "│   ╰───────────────────────────────────────────────────────────────────────────────────╯                       \n",
       "│   ╭────────────────── ◀ output ──────────────────╮\n",
       "│   │ <span style=\"font-weight: bold\">weight</span> (real)                                │\n",
       "│   │ Output scale factor (nominal) or uncertainty │\n",
       "│   ╰──────────────────────────────────────────────╯\n",
       "└── 📈 <span style=\"font-weight: bold\">NUM_TightPFIso_DEN_TightID_HWW</span> (v0)\n",
       "    <span style=\"font-style: italic\">No description</span>\n",
       "    Node counts: <span style=\"font-weight: bold\">Binning</span>: 14, <span style=\"font-weight: bold\">Category</span>: 117\n",
       "    ╭───────────────────────────────────── ▶ input ─────────────────────────────────────╮ ╭───── ▶ input ──────╮\n",
       "    │ <span style=\"font-weight: bold\">eta</span> (real)                                                                        │ │ <span style=\"font-weight: bold\">pt</span> (real)          │\n",
       "    │ Probe eta                                                                         │ │ Probe pt           │\n",
       "    │ Range: [-2.4, 2.4)                                                                │ │ Range: [10.0, inf) │\n",
       "    ╰───────────────────────────────────────────────────────────────────────────────────╯ ╰────────────────────╯\n",
       "    ╭───────────────────────────────────── ▶ input ─────────────────────────────────────╮                       \n",
       "    │ <span style=\"font-weight: bold\">scale_factors</span> (string)                                                            │                       \n",
       "    │ Choose nominal scale factor or one of the uncertainties                           │                       \n",
       "    │ Values: AltSig, massBin, massRange, nominal, stat, syst, systdown, systup, tagIso │                       \n",
       "    ╰───────────────────────────────────────────────────────────────────────────────────╯                       \n",
       "    ╭────────────────── ◀ output ──────────────────╮\n",
       "    │ <span style=\"font-weight: bold\">weight</span> (real)                                │\n",
       "    │ Output scale factor (nominal) or uncertainty │\n",
       "    ╰──────────────────────────────────────────────╯\n",
       "</pre>\n"
      ],
      "text/plain": [
       "\u001b[1mCorrectionSet\u001b[0m (\u001b[3mschema v2\u001b[0m)\n",
       "\u001b[3mNo description\u001b[0m\n",
       "📂\n",
       "├── 📈 \u001b[1mElectron_RecoSF_RecoBelow20\u001b[0m (v0)\n",
       "│   \u001b[3mNo description\u001b[0m\n",
       "│   Node counts: \u001b[1mCategory\u001b[0m: 1, \u001b[1mMultiBinning\u001b[0m: 3\n",
       "│   ╭────────────── ▶ input ──────────────╮ ╭───── ▶ input ──────╮ ╭────── ▶ input ──────╮\n",
       "│   │ \u001b[1msyst\u001b[0m (string)                       │ │ \u001b[1meta\u001b[0m (real)         │ │ \u001b[1mpt\u001b[0m (real)           │\n",
       "│   │ syst                                │ │ eta                │ │ pt                  │\n",
       "│   │ Values: nominal, syst_down, syst_up │ │ Range: [-inf, inf) │ │ Range: [10.0, 20.0) │\n",
       "│   ╰─────────────────────────────────────╯ ╰────────────────────╯ ╰─────────────────────╯\n",
       "│   ╭─── ◀ output ───╮\n",
       "│   │ \u001b[1mout\u001b[0m (real)     │\n",
       "│   │ \u001b[3mNo description\u001b[0m │\n",
       "│   ╰────────────────╯\n",
       "├── 📈 \u001b[1mElectron_RecoSF_Reco20to75\u001b[0m (v0)\n",
       "│   \u001b[3mNo description\u001b[0m\n",
       "│   Node counts: \u001b[1mCategory\u001b[0m: 1, \u001b[1mMultiBinning\u001b[0m: 3\n",
       "│   ╭────────────── ▶ input ──────────────╮ ╭───── ▶ input ──────╮ ╭────── ▶ input ──────╮\n",
       "│   │ \u001b[1msyst\u001b[0m (string)                       │ │ \u001b[1meta\u001b[0m (real)         │ │ \u001b[1mpt\u001b[0m (real)           │\n",
       "│   │ syst                                │ │ eta                │ │ pt                  │\n",
       "│   │ Values: nominal, syst_down, syst_up │ │ Range: [-inf, inf) │ │ Range: [20.0, 75.0) │\n",
       "│   ╰─────────────────────────────────────╯ ╰────────────────────╯ ╰─────────────────────╯\n",
       "│   ╭─── ◀ output ───╮\n",
       "│   │ \u001b[1mout\u001b[0m (real)     │\n",
       "│   │ \u001b[3mNo description\u001b[0m │\n",
       "│   ╰────────────────╯\n",
       "├── 📈 \u001b[1mElectron_RecoSF_RecoAbove75\u001b[0m (v0)\n",
       "│   \u001b[3mNo description\u001b[0m\n",
       "│   Node counts: \u001b[1mCategory\u001b[0m: 1, \u001b[1mMultiBinning\u001b[0m: 3\n",
       "│   ╭────────────── ▶ input ──────────────╮ ╭───── ▶ input ──────╮ ╭───── ▶ input ──────╮\n",
       "│   │ \u001b[1msyst\u001b[0m (string)                       │ │ \u001b[1meta\u001b[0m (real)         │ │ \u001b[1mpt\u001b[0m (real)          │\n",
       "│   │ syst                                │ │ eta                │ │ pt                 │\n",
       "│   │ Values: nominal, syst_down, syst_up │ │ Range: [-inf, inf) │ │ Range: [75.0, inf) │\n",
       "│   ╰─────────────────────────────────────╯ ╰────────────────────╯ ╰────────────────────╯\n",
       "│   ╭─── ◀ output ───╮\n",
       "│   │ \u001b[1mout\u001b[0m (real)     │\n",
       "│   │ \u001b[3mNo description\u001b[0m │\n",
       "│   ╰────────────────╯\n",
       "├── 📈 \u001b[1mElectron_WP_SF\u001b[0m (v0)\n",
       "│   \u001b[3mNo description\u001b[0m\n",
       "│   Node counts: \u001b[1mCategory\u001b[0m: 1, \u001b[1mMultiBinning\u001b[0m: 3\n",
       "│   ╭────────────── ▶ input ──────────────╮ ╭───── ▶ input ──────╮ ╭────── ▶ input ───────╮\n",
       "│   │ \u001b[1msyst\u001b[0m (string)                       │ │ \u001b[1meta\u001b[0m (real)         │ │ \u001b[1mpt\u001b[0m (real)            │\n",
       "│   │ syst                                │ │ eta                │ │ pt                   │\n",
       "│   │ Values: nominal, syst_down, syst_up │ │ Range: [-2.5, 2.5) │ │ Range: [10.0, 200.0) │\n",
       "│   ╰─────────────────────────────────────╯ ╰────────────────────╯ ╰──────────────────────╯\n",
       "│   ╭─── ◀ output ───╮\n",
       "│   │ \u001b[1mout\u001b[0m (real)     │\n",
       "│   │ \u001b[3mNo description\u001b[0m │\n",
       "│   ╰────────────────╯\n",
       "├── 📈 \u001b[1mNUM_TightID_HWW_DEN_TrackerMuons\u001b[0m (v0)\n",
       "│   \u001b[3mNo description\u001b[0m\n",
       "│   Node counts: \u001b[1mBinning\u001b[0m: 14, \u001b[1mCategory\u001b[0m: 117\n",
       "│   ╭───────────────────────────────────── ▶ input ─────────────────────────────────────╮ ╭───── ▶ input ──────╮\n",
       "│   │ \u001b[1meta\u001b[0m (real)                                                                        │ │ \u001b[1mpt\u001b[0m (real)          │\n",
       "│   │ Probe eta                                                                         │ │ Probe pt           │\n",
       "│   │ Range: [-2.4, 2.4)                                                                │ │ Range: [10.0, inf) │\n",
       "│   ╰───────────────────────────────────────────────────────────────────────────────────╯ ╰────────────────────╯\n",
       "│   ╭───────────────────────────────────── ▶ input ─────────────────────────────────────╮                       \n",
       "│   │ \u001b[1mscale_factors\u001b[0m (string)                                                            │                       \n",
       "│   │ Choose nominal scale factor or one of the uncertainties                           │                       \n",
       "│   │ Values: AltSig, massBin, massRange, nominal, stat, syst, systdown, systup, tagIso │                       \n",
       "│   ╰───────────────────────────────────────────────────────────────────────────────────╯                       \n",
       "│   ╭────────────────── ◀ output ──────────────────╮\n",
       "│   │ \u001b[1mweight\u001b[0m (real)                                │\n",
       "│   │ Output scale factor (nominal) or uncertainty │\n",
       "│   ╰──────────────────────────────────────────────╯\n",
       "└── 📈 \u001b[1mNUM_TightPFIso_DEN_TightID_HWW\u001b[0m (v0)\n",
       "    \u001b[3mNo description\u001b[0m\n",
       "    Node counts: \u001b[1mBinning\u001b[0m: 14, \u001b[1mCategory\u001b[0m: 117\n",
       "    ╭───────────────────────────────────── ▶ input ─────────────────────────────────────╮ ╭───── ▶ input ──────╮\n",
       "    │ \u001b[1meta\u001b[0m (real)                                                                        │ │ \u001b[1mpt\u001b[0m (real)          │\n",
       "    │ Probe eta                                                                         │ │ Probe pt           │\n",
       "    │ Range: [-2.4, 2.4)                                                                │ │ Range: [10.0, inf) │\n",
       "    ╰───────────────────────────────────────────────────────────────────────────────────╯ ╰────────────────────╯\n",
       "    ╭───────────────────────────────────── ▶ input ─────────────────────────────────────╮                       \n",
       "    │ \u001b[1mscale_factors\u001b[0m (string)                                                            │                       \n",
       "    │ Choose nominal scale factor or one of the uncertainties                           │                       \n",
       "    │ Values: AltSig, massBin, massRange, nominal, stat, syst, systdown, systup, tagIso │                       \n",
       "    ╰───────────────────────────────────────────────────────────────────────────────────╯                       \n",
       "    ╭────────────────── ◀ output ──────────────────╮\n",
       "    │ \u001b[1mweight\u001b[0m (real)                                │\n",
       "    │ Output scale factor (nominal) or uncertainty │\n",
       "    ╰──────────────────────────────────────────────╯\n"
      ]
     },
     "metadata": {},
     "output_type": "display_data"
    }
   ],
   "source": [
    "cset = correctionlib.schemav2.CorrectionSet(\n",
    "    schema_version=2, description=\"\", corrections=csets\n",
    ")\n",
    "\n",
    "rich.print(cset)"
   ]
  },
  {
   "cell_type": "code",
   "execution_count": 18,
   "id": "a4088053",
   "metadata": {},
   "outputs": [
    {
     "data": {
      "text/plain": [
       "'\\nElectron corrections take syst, eta, pt. No need to clip eta, pt >=10.0 and < 200.0\\nMuon: eta, pt, syst. Eta between 2.4 <= eta < 2.4, and pt >= 10.0. Clip eta\\n'"
      ]
     },
     "execution_count": 18,
     "metadata": {},
     "output_type": "execute_result"
    }
   ],
   "source": [
    "# inputs\n",
    "\"\"\"\n",
    "Electron corrections take syst, eta, pt. No need to clip eta, pt >=10.0 and < 200.0\n",
    "Muon: eta, pt, syst. Eta between 2.4 <= eta < 2.4, and pt >= 10.0. Clip eta\n",
    "\"\"\""
   ]
  },
  {
   "cell_type": "code",
   "execution_count": null,
   "id": "512e816f",
   "metadata": {},
   "outputs": [],
   "source": []
  }
 ],
 "metadata": {
  "kernelspec": {
   "display_name": "spritz",
   "language": "python",
   "name": "python3"
  },
  "language_info": {
   "codemirror_mode": {
    "name": "ipython",
    "version": 3
   },
   "file_extension": ".py",
   "mimetype": "text/x-python",
   "name": "python",
   "nbconvert_exporter": "python",
   "pygments_lexer": "ipython3",
   "version": "3.10.14"
  }
 },
 "nbformat": 4,
 "nbformat_minor": 5
}
